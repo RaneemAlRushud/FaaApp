{
 "cells": [
  {
   "cell_type": "code",
   "execution_count": 22,
   "id": "98ccc405",
   "metadata": {},
   "outputs": [],
   "source": [
    "import os\n",
    "import tweepy \n",
    "from time import sleep\n",
    "import pandas as pd\n",
    "import numpy as np \n",
    "import csv "
   ]
  },
  {
   "cell_type": "code",
   "execution_count": 23,
   "id": "87aea603",
   "metadata": {},
   "outputs": [],
   "source": [
    "#Plotting and Visualise \n",
    "from IPython.display import display"
   ]
  },
  {
   "cell_type": "code",
   "execution_count": 24,
   "id": "986116c1",
   "metadata": {},
   "outputs": [],
   "source": [
    "#Acess credentials.py\n",
    "from credentials import * \n",
    "auth = tweepy.OAuthHandler(CONSUMER_KEY,CONSUMER_SECRET)\n",
    "auth.set_access_token(ACCESS_TOKEN, ACCESS_TOKEN_SECRET)\n",
    "api = tweepy.API(auth,wait_on_rate_limit=True)"
   ]
  },
  {
   "cell_type": "code",
   "execution_count": 26,
   "id": "71e5571d",
   "metadata": {},
   "outputs": [],
   "source": [
    "csvWriter=csv.writer(\"csvFile\")"
   ]
  }
 ],
 "metadata": {
  "kernelspec": {
   "display_name": "Python 3 (ipykernel)",
   "language": "python",
   "name": "python3"
  },
  "language_info": {
   "codemirror_mode": {
    "name": "ipython",
    "version": 3
   },
   "file_extension": ".py",
   "mimetype": "text/x-python",
   "name": "python",
   "nbconvert_exporter": "python",
   "pygments_lexer": "ipython3",
   "version": "3.9.7"
  }
 },
 "nbformat": 4,
 "nbformat_minor": 5
}
