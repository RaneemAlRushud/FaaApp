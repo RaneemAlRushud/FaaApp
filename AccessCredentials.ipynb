{
 "cells": [
  {
   "cell_type": "code",
   "execution_count": 22,
   "id": "98ccc405",
   "metadata": {},
   "outputs": [],
   "source": [
    "import os\n",
    "import tweepy \n",
    "from time import sleep\n",
    "import pandas as pd\n",
    "import numpy as np \n",
    "import csv "
   ]
  },
  {
   "cell_type": "code",
   "execution_count": 23,
   "id": "87aea603",
   "metadata": {},
   "outputs": [],
   "source": [
    "#for plotting and vis \n",
    "from IPython.display import display"
   ]
  },
  {
   "cell_type": "code",
   "execution_count": 24,
   "id": "986116c1",
   "metadata": {},
   "outputs": [],
   "source": [
    "from credentials import * \n",
    "auth = tweepy.OAuthHandler(CONSUMER_KEY,CONSUMER_SECRET)\n",
    "auth.set_access_token(ACCESS_TOKEN, ACCESS_TOKEN_SECRET)\n",
    "api = tweepy.API(auth,wait_on_rate_limit=True)"
   ]
  },
